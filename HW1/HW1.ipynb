{
 "cells": [
  {
   "cell_type": "markdown",
   "id": "06dbf605-1dad-49b9-b122-5c366ef56193",
   "metadata": {},
   "source": [
    "# 6.7920 - HW 1\n",
    "\n",
    "- Fall 2023  \n",
    "- Spencer Bertsch  "
   ]
  },
  {
   "cell_type": "code",
   "execution_count": 77,
   "id": "e7d88619-06ff-4dac-8a2a-98a28b3a0775",
   "metadata": {},
   "outputs": [],
   "source": [
    "import numpy as np\n",
    "np.random.seed = 2"
   ]
  },
  {
   "cell_type": "code",
   "execution_count": null,
   "id": "7ace4333-4dbe-4564-8766-e59246907d09",
   "metadata": {},
   "outputs": [],
   "source": []
  },
  {
   "cell_type": "markdown",
   "id": "56b49567-e186-47f3-9352-9f13580c52bc",
   "metadata": {},
   "source": [
    "## Problem 5"
   ]
  },
  {
   "cell_type": "markdown",
   "id": "2b23261c-89fa-4599-a153-58f1c401a519",
   "metadata": {},
   "source": [
    "Define the constants for this problem "
   ]
  },
  {
   "cell_type": "code",
   "execution_count": 111,
   "id": "904e990e-2fbd-4aef-9ab5-0dfac5562c2e",
   "metadata": {},
   "outputs": [],
   "source": [
    "# define the action space: A = [0, 1, 2, ..., 20]\n",
    "A = list(range(21))\n",
    "# define the cost to purchase one unit of goods \n",
    "o_t = 1\n",
    "# define the cost to hold one unit of goods for a single time period\n",
    "h_t = 4\n",
    "# define the cost for a back ordered unit of goods for single time period \n",
    "b_t = 2\n",
    "# define the number of periods in the problem \n",
    "T=3"
   ]
  },
  {
   "cell_type": "markdown",
   "id": "f70fe340-fc8c-44c1-9ca4-67c0e7398bf2",
   "metadata": {},
   "source": [
    "Define the action space "
   ]
  },
  {
   "cell_type": "code",
   "execution_count": 112,
   "id": "017ec4de-692a-4cda-b725-45c0234c816d",
   "metadata": {},
   "outputs": [
    {
     "data": {
      "text/plain": [
       "[0, 1, 2]"
      ]
     },
     "execution_count": 112,
     "metadata": {},
     "output_type": "execute_result"
    }
   ],
   "source": [
    "# A = list(range(0, 21, 1))\n",
    "A = list(range(0, 3, 1))\n",
    "A"
   ]
  },
  {
   "cell_type": "code",
   "execution_count": 113,
   "id": "e01af20c-dec7-4864-85a8-a07f0cc54f7e",
   "metadata": {},
   "outputs": [],
   "source": [
    "def sample_Dt():\n",
    "    \"\"\"\n",
    "    helper function used to generate a sample from the distribution Dt\n",
    "    we assume that demands are i.i.d. with a discrete uniform distribution\n",
    "    in the set {0, 1, ..., 10}\n",
    "    \"\"\"\n",
    "    # D = list(range(11))\n",
    "    D = list(range(3))\n",
    "    sample = np.random.choice(D)\n",
    "    return sample"
   ]
  },
  {
   "cell_type": "code",
   "execution_count": 117,
   "id": "11086934-c985-4a4f-8c8d-e7c2acd27a0a",
   "metadata": {},
   "outputs": [],
   "source": [
    "def backwards_ind(s_t: int = 10, t: int = T):\n",
    "    \"\"\"\n",
    "    backwards induction function used to generate the optimal value function V0*(s0) and the \n",
    "    optimal set of actions a0*(s0)  \n",
    "    \n",
    "    :param: state, with default starting value of zero \n",
    "    \"\"\"\n",
    "    \n",
    "    \n",
    "    # base case: \n",
    "    if t == 1: \n",
    "        return np.max((h_t*s_t, -b_t*s_t))\n",
    "    \n",
    "    else: \n",
    "        # here we define the array that will hold the optimal value function values\n",
    "        v = np.zeros(T)\n",
    "        Q = np.zeros((len(A), T))\n",
    "\n",
    "        for t in reversed(list(range(1, t, 1))):\n",
    "            print(f'Current period: {t}')\n",
    "            \n",
    "            # define the demand at time t\n",
    "            D_t = sample_Dt()\n",
    "            print(f'Demand at time {t}: {D_t}')\n",
    "\n",
    "            for a_t in A:\n",
    "                print(f'Current action at time {t}: {a_t}')\n",
    "\n",
    "                # we don't iterate over the states because we recurse over them - that's why they're unbounded...\n",
    "\n",
    "                c_t = o_t*a_t + np.max(((h_t * (s_t + a_t - D_t)), (-b_t * (s_t + a_t - D_t))))\n",
    "                print(f'cost for action {a_t} at time {t}: {c_t}')\n",
    "\n",
    "                Q[a_t, t] = c_t + backwards_ind(s_t = (s_t + a_t - D_t), t=t)\n",
    "\n",
    "            \n",
    "            # find the optimal value for time t\n",
    "            v[t] = np.min(Q[:, t])\n",
    "            print(f'Value at time t={t}: {v[t]}')\n",
    "            \n",
    "        print(f'\\n\\n\\n')    \n",
    "\n",
    "        return v[t]\n",
    "        \n",
    "        # find the value at the state that maximizes the value function\n",
    "        \n",
    "            "
   ]
  },
  {
   "cell_type": "code",
   "execution_count": 118,
   "id": "75402074-5d0e-4984-b7d8-687e47fb025f",
   "metadata": {},
   "outputs": [
    {
     "data": {
      "text/plain": [
       "array([[0., 0., 0.],\n",
       "       [0., 0., 0.],\n",
       "       [0., 0., 0.]])"
      ]
     },
     "execution_count": 118,
     "metadata": {},
     "output_type": "execute_result"
    }
   ],
   "source": [
    "v = np.zeros((len(A), T))\n",
    "v"
   ]
  },
  {
   "cell_type": "code",
   "execution_count": 119,
   "id": "324f51ed-b25e-4755-9b7a-baa07c39c465",
   "metadata": {},
   "outputs": [
    {
     "name": "stdout",
     "output_type": "stream",
     "text": [
      "Current period: 2\n",
      "Demand at time 2: 2\n",
      "Current action at time 2: 0\n",
      "cost for action 0 at time 2: 32\n",
      "Current period: 1\n",
      "Demand at time 1: 0\n",
      "Current action at time 1: 0\n",
      "cost for action 0 at time 1: 32\n",
      "Current action at time 1: 1\n",
      "cost for action 1 at time 1: 37\n",
      "Current action at time 1: 2\n",
      "cost for action 2 at time 1: 42\n",
      "Value at time t=1: 64.0\n",
      "\n",
      "\n",
      "\n",
      "\n",
      "Current action at time 2: 1\n",
      "cost for action 1 at time 2: 37\n",
      "Current period: 1\n",
      "Demand at time 1: 0\n",
      "Current action at time 1: 0\n",
      "cost for action 0 at time 1: 36\n",
      "Current action at time 1: 1\n",
      "cost for action 1 at time 1: 41\n",
      "Current action at time 1: 2\n",
      "cost for action 2 at time 1: 46\n",
      "Value at time t=1: 72.0\n",
      "\n",
      "\n",
      "\n",
      "\n",
      "Current action at time 2: 2\n",
      "cost for action 2 at time 2: 42\n",
      "Current period: 1\n",
      "Demand at time 1: 0\n",
      "Current action at time 1: 0\n",
      "cost for action 0 at time 1: 40\n",
      "Current action at time 1: 1\n",
      "cost for action 1 at time 1: 45\n",
      "Current action at time 1: 2\n",
      "cost for action 2 at time 1: 50\n",
      "Value at time t=1: 80.0\n",
      "\n",
      "\n",
      "\n",
      "\n",
      "Value at time t=2: 96.0\n",
      "Current period: 1\n",
      "Demand at time 1: 2\n",
      "Current action at time 1: 0\n",
      "cost for action 0 at time 1: 32\n",
      "Current action at time 1: 1\n",
      "cost for action 1 at time 1: 37\n",
      "Current action at time 1: 2\n",
      "cost for action 2 at time 1: 42\n",
      "Value at time t=1: 64.0\n",
      "\n",
      "\n",
      "\n",
      "\n"
     ]
    },
    {
     "data": {
      "text/plain": [
       "64.0"
      ]
     },
     "execution_count": 119,
     "metadata": {},
     "output_type": "execute_result"
    }
   ],
   "source": [
    "backwards_ind()"
   ]
  },
  {
   "cell_type": "code",
   "execution_count": null,
   "id": "43d4ac57-d810-4e29-bade-6127509397cf",
   "metadata": {},
   "outputs": [],
   "source": []
  },
  {
   "cell_type": "code",
   "execution_count": null,
   "id": "742e1341-f6e4-4734-a8c4-c2743f982a80",
   "metadata": {},
   "outputs": [],
   "source": []
  },
  {
   "cell_type": "code",
   "execution_count": null,
   "id": "d81527d1-5920-483b-a65e-8431f4c0721a",
   "metadata": {},
   "outputs": [],
   "source": []
  },
  {
   "cell_type": "code",
   "execution_count": null,
   "id": "5806eb99-11f7-414b-9381-16dc5ad8765f",
   "metadata": {},
   "outputs": [],
   "source": []
  },
  {
   "cell_type": "code",
   "execution_count": null,
   "id": "eefa93b4-5c5a-4c4d-b202-b979bd3e79e9",
   "metadata": {},
   "outputs": [],
   "source": []
  },
  {
   "cell_type": "code",
   "execution_count": null,
   "id": "0fd947ea-e588-4576-aa37-27de0407242d",
   "metadata": {},
   "outputs": [],
   "source": []
  },
  {
   "cell_type": "code",
   "execution_count": null,
   "id": "17d57ae7-a979-486a-bd08-ff9cedd7457b",
   "metadata": {},
   "outputs": [],
   "source": []
  },
  {
   "cell_type": "markdown",
   "id": "56c84087-c981-47ce-8f2a-01b1e6e621a3",
   "metadata": {},
   "source": [
    "## Problem 6: Traveling Repairman "
   ]
  },
  {
   "cell_type": "code",
   "execution_count": 7,
   "id": "c1223155-5e6a-4c2b-ac71-1fb4262d9e99",
   "metadata": {},
   "outputs": [
    {
     "data": {
      "text/plain": [
       "[1, 2, 3, 4, 5, 6, 7, 8, 9, 10, 11, 12, 13, 14, 15, 16, 17, 18, 19, 20]"
      ]
     },
     "execution_count": 7,
     "metadata": {},
     "output_type": "execute_result"
    }
   ],
   "source": [
    "n = 20\n",
    "A = list(range(1, n+1, 1))\n",
    "A"
   ]
  },
  {
   "cell_type": "code",
   "execution_count": 10,
   "id": "74a4506d-5034-4608-83a6-dd2f51d3d770",
   "metadata": {},
   "outputs": [],
   "source": [
    "# initialize starting position\n",
    "s = 5\n",
    "i, j = s, s"
   ]
  },
  {
   "cell_type": "code",
   "execution_count": null,
   "id": "f433dfb2-8f4d-4df1-abe9-836d1e2617ac",
   "metadata": {},
   "outputs": [],
   "source": [
    "# define costs functions\n"
   ]
  },
  {
   "cell_type": "code",
   "execution_count": null,
   "id": "60b065da-9bf9-4d05-9498-f494d2096d08",
   "metadata": {},
   "outputs": [],
   "source": [
    "def step(s):\n",
    "    \"\"\"\n",
    "    Actions: \n",
    "    'L': servicing site i-1\n",
    "    'R': servicing site j+1\n",
    "    \n",
    "    \"\"\"\n",
    "    \n",
    "    memo: dict = {}\n",
    "    \n",
    "    # base cases\n",
    "    if ((i == 1) & (j == n)):\n",
    "        \n",
    "    elif ((i == 1) & (j < n)):\n",
    "        action = 'R'\n",
    "        \n",
    "    elif ((i > 1) & (j == n)):\n",
    "        action = 'L'\n",
    "    elif\n",
    "    \n",
    "    "
   ]
  }
 ],
 "metadata": {
  "kernelspec": {
   "display_name": "Python 3 (ipykernel)",
   "language": "python",
   "name": "python3"
  },
  "language_info": {
   "codemirror_mode": {
    "name": "ipython",
    "version": 3
   },
   "file_extension": ".py",
   "mimetype": "text/x-python",
   "name": "python",
   "nbconvert_exporter": "python",
   "pygments_lexer": "ipython3",
   "version": "3.9.7"
  }
 },
 "nbformat": 4,
 "nbformat_minor": 5
}
